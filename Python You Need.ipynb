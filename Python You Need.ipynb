{
 "cells": [
  {
   "cell_type": "markdown",
   "id": "ec54bf6b",
   "metadata": {},
   "source": [
    "# Arithmatic operations\n",
    "\n"
   ]
  },
  {
   "cell_type": "raw",
   "id": "a812591d",
   "metadata": {},
   "source": [
    "a**b = a to the power b\n",
    "a**(1/2) = square root a\n",
    "a//b= float division 5/2=2 not 2.5 only take integers as answers\n",
    "a%b = remainder of a/b"
   ]
  },
  {
   "cell_type": "markdown",
   "id": "6c697d03",
   "metadata": {},
   "source": [
    "# Type function"
   ]
  },
  {
   "cell_type": "code",
   "execution_count": 2,
   "id": "4cc26a8c",
   "metadata": {},
   "outputs": [
    {
     "name": "stdout",
     "output_type": "stream",
     "text": [
      "<class 'int'>\n",
      "<class 'float'>\n",
      "<class 'str'>\n"
     ]
    }
   ],
   "source": [
    "a=10\n",
    "b=12.5\n",
    "c=\"Panda\"\n",
    "print(type(a))\n",
    "print(type(b))\n",
    "print(type(c))"
   ]
  },
  {
   "cell_type": "markdown",
   "id": "2470df52",
   "metadata": {},
   "source": [
    "# Implicit vs Explicit Conversion"
   ]
  },
  {
   "cell_type": "markdown",
   "id": "97487be7",
   "metadata": {},
   "source": [
    " Implicit conversion is where the interpreter helps us out and automatically converts one data type into another, without having to explicitly tell it to do so.\n",
    "\n",
    "By contrast, explicit conversion is where we manually convert from one data type to another by calling the relevant function for the data type we want to convert to. We used this in our video example when we wanted to print a number alongside some text. Before we could do that, we needed to call the str() function to convert the number into a string. Once the number was explicitly converted to a string, we could join it with the rest of our textual string and print the result."
   ]
  },
  {
   "cell_type": "code",
   "execution_count": 3,
   "id": "62b73388",
   "metadata": {},
   "outputs": [
    {
     "name": "stdout",
     "output_type": "stream",
     "text": [
      "My age is 10\n"
     ]
    }
   ],
   "source": [
    "a=10\n",
    "print(\"My age is \"+ str(a))"
   ]
  },
  {
   "cell_type": "markdown",
   "id": "f08e5fa9",
   "metadata": {},
   "source": [
    "# Function"
   ]
  },
  {
   "cell_type": "code",
   "execution_count": 7,
   "id": "21f34891",
   "metadata": {},
   "outputs": [],
   "source": [
    "def greetings(name,dept):\n",
    "    print(\"Wellcome to our \"+dept+\" department \"+name)"
   ]
  },
  {
   "cell_type": "code",
   "execution_count": 8,
   "id": "50d4627a",
   "metadata": {},
   "outputs": [
    {
     "name": "stdout",
     "output_type": "stream",
     "text": [
      "Wellcome to our Aerospace Engineering department Shuvro\n"
     ]
    }
   ],
   "source": [
    "greetings(\"Shuvro\",\"Aerospace Engineering\")"
   ]
  },
  {
   "cell_type": "code",
   "execution_count": 9,
   "id": "c1689aeb",
   "metadata": {},
   "outputs": [],
   "source": [
    "def area_of_triangle(base,height):\n",
    "    return (base*height)/2"
   ]
  },
  {
   "cell_type": "code",
   "execution_count": 10,
   "id": "32fb92fb",
   "metadata": {},
   "outputs": [
    {
     "name": "stdout",
     "output_type": "stream",
     "text": [
      "15.0\n"
     ]
    }
   ],
   "source": [
    "print(area_of_triangle(5,6))"
   ]
  },
  {
   "cell_type": "code",
   "execution_count": 11,
   "id": "aa237d75",
   "metadata": {},
   "outputs": [],
   "source": [
    "def convert_seconds(seconds):\n",
    "    hours=seconds//3600\n",
    "    min=(seconds-hours*3600)//60\n",
    "    rem_sec=seconds-hours*3600-min*60\n",
    "    return hours,min,rem_sec"
   ]
  },
  {
   "cell_type": "code",
   "execution_count": 13,
   "id": "bb8ffe69",
   "metadata": {},
   "outputs": [
    {
     "name": "stdout",
     "output_type": "stream",
     "text": [
      "1\n",
      "23\n",
      "20\n"
     ]
    }
   ],
   "source": [
    "hours,minutes,seconds=convert_seconds(5000)\n",
    "print(hours)\n",
    "print(minutes)\n",
    "print(seconds)"
   ]
  },
  {
   "cell_type": "markdown",
   "id": "00e3f7ca",
   "metadata": {},
   "source": [
    "# Comparison operators"
   ]
  },
  {
   "cell_type": "raw",
   "id": "efefc56b",
   "metadata": {},
   "source": [
    "a == b: a is equal to b\n",
    "\n",
    "a != b: a is different than b\n",
    "\n",
    "a < b: a is smaller than b\n",
    "\n",
    "a <= b: a is smaller or equal to b\n",
    "\n",
    "a > b: a is bigger than b\n",
    "\n",
    "a >= b: a is bigger or equal to b\n",
    "\n"
   ]
  },
  {
   "cell_type": "markdown",
   "id": "8e1daf93",
   "metadata": {},
   "source": [
    "# Logical operators"
   ]
  },
  {
   "cell_type": "raw",
   "id": "45fa707e",
   "metadata": {},
   "source": [
    "a and b: True if both a and b are True. False otherwise.\n",
    "\n",
    "a or b: True if either a or b or both are True. False if both are False.\n",
    "\n",
    "not a: True if a is False, False if a is True."
   ]
  },
  {
   "cell_type": "markdown",
   "id": "efecc15e",
   "metadata": {},
   "source": [
    "# while Loop"
   ]
  },
  {
   "cell_type": "code",
   "execution_count": 1,
   "id": "2e21de34",
   "metadata": {},
   "outputs": [
    {
     "name": "stdout",
     "output_type": "stream",
     "text": [
      "Not there yet x: 0\n",
      "Not there yet x: 1\n",
      "Not there yet x: 2\n",
      "Not there yet x: 3\n",
      "Not there yet x: 4\n",
      "x= 5\n"
     ]
    }
   ],
   "source": [
    "x=0;\n",
    "while x<5:\n",
    "    print(\"Not there yet x: \"+str(x))\n",
    "    x=x+1\n",
    "print(\"x= \"+str(x))"
   ]
  },
  {
   "cell_type": "markdown",
   "id": "affa839b",
   "metadata": {},
   "source": [
    "# for loop"
   ]
  },
  {
   "cell_type": "code",
   "execution_count": 2,
   "id": "7418a5d3",
   "metadata": {},
   "outputs": [
    {
     "name": "stdout",
     "output_type": "stream",
     "text": [
      "0\n",
      "1\n",
      "2\n",
      "3\n",
      "4\n",
      "5\n",
      "6\n",
      "7\n",
      "8\n",
      "9\n"
     ]
    }
   ],
   "source": [
    "for x in range(10):\n",
    "    print(x)"
   ]
  },
  {
   "cell_type": "code",
   "execution_count": 3,
   "id": "8fc48449",
   "metadata": {},
   "outputs": [
    {
     "name": "stdout",
     "output_type": "stream",
     "text": [
      "2\n",
      "3\n",
      "4\n",
      "5\n",
      "6\n",
      "7\n",
      "8\n",
      "9\n"
     ]
    }
   ],
   "source": [
    "for x in range(2,10):\n",
    "    print(x)"
   ]
  },
  {
   "cell_type": "code",
   "execution_count": 4,
   "id": "a06c6c65",
   "metadata": {},
   "outputs": [
    {
     "name": "stdout",
     "output_type": "stream",
     "text": [
      "2\n",
      "4\n",
      "6\n",
      "8\n"
     ]
    }
   ],
   "source": [
    "for x in range(2,10,2):\n",
    "    print(x)"
   ]
  },
  {
   "cell_type": "code",
   "execution_count": 8,
   "id": "cbcf802b",
   "metadata": {},
   "outputs": [
    {
     "name": "stdout",
     "output_type": "stream",
     "text": [
      "[0|0] [0|1] [0|2] [0|3] [0|4] [0|5] [0|6] \n",
      "[1|1] [1|2] [1|3] [1|4] [1|5] [1|6] \n",
      "[2|2] [2|3] [2|4] [2|5] [2|6] \n",
      "[3|3] [3|4] [3|5] [3|6] \n",
      "[4|4] [4|5] [4|6] \n",
      "[5|5] [5|6] \n",
      "[6|6] \n"
     ]
    }
   ],
   "source": [
    "for left in range(7):\n",
    "    for right in range(left,7):\n",
    "        print(\"[\"+str(left)+\"|\"+str(right)+\"]\",end=\" \")\n",
    "    print()"
   ]
  },
  {
   "cell_type": "markdown",
   "id": "f41a3659",
   "metadata": {},
   "source": [
    "# Recursion"
   ]
  },
  {
   "cell_type": "code",
   "execution_count": 9,
   "id": "2fc49f44",
   "metadata": {},
   "outputs": [
    {
     "data": {
      "text/plain": [
       "120"
      ]
     },
     "execution_count": 9,
     "metadata": {},
     "output_type": "execute_result"
    }
   ],
   "source": [
    "def factorial(n):\n",
    "    if n<2:\n",
    "        return 1\n",
    "    return n*factorial(n-1)\n",
    "\n",
    "factorial(5)\n",
    "        "
   ]
  },
  {
   "cell_type": "markdown",
   "id": "b27357ca",
   "metadata": {},
   "source": [
    "# Strings"
   ]
  },
  {
   "cell_type": "code",
   "execution_count": 1,
   "id": "eb5cd85e",
   "metadata": {},
   "outputs": [
    {
     "data": {
      "text/plain": [
       "'ShuvroShuvroShuvro'"
      ]
     },
     "execution_count": 1,
     "metadata": {},
     "output_type": "execute_result"
    }
   ],
   "source": [
    "a=\"Shuvro\"\n",
    "b='Das'\n",
    "#a+b will give error. both strings must be same(either \"\" or '')\n",
    "c=a*3\n",
    "c"
   ]
  },
  {
   "cell_type": "code",
   "execution_count": 3,
   "id": "67b2a4ca",
   "metadata": {},
   "outputs": [
    {
     "name": "stdout",
     "output_type": "stream",
     "text": [
      "18\n"
     ]
    }
   ],
   "source": [
    "print(len(c))"
   ]
  },
  {
   "cell_type": "code",
   "execution_count": 4,
   "id": "cf37b454",
   "metadata": {},
   "outputs": [
    {
     "name": "stdout",
     "output_type": "stream",
     "text": [
      "S\n"
     ]
    }
   ],
   "source": [
    "name=\"Shuvro\"\n",
    "print(name[0])"
   ]
  },
  {
   "cell_type": "code",
   "execution_count": 6,
   "id": "c4ec5801",
   "metadata": {},
   "outputs": [
    {
     "name": "stdout",
     "output_type": "stream",
     "text": [
      "o\n"
     ]
    }
   ],
   "source": [
    "print(name[len(name)-1])"
   ]
  },
  {
   "cell_type": "code",
   "execution_count": 7,
   "id": "6d412ebc",
   "metadata": {},
   "outputs": [
    {
     "name": "stdout",
     "output_type": "stream",
     "text": [
      "o\n"
     ]
    }
   ],
   "source": [
    "print(name[-1])# - indices prints from backwords but start with -1"
   ]
  },
  {
   "cell_type": "markdown",
   "id": "7745ee15",
   "metadata": {},
   "source": [
    "Slice : The portion of a string that can contain more than ne character: also sometimes called a substring."
   ]
  },
  {
   "cell_type": "code",
   "execution_count": 8,
   "id": "f3c70407",
   "metadata": {},
   "outputs": [
    {
     "data": {
      "text/plain": [
       "'ran'"
      ]
     },
     "execution_count": 8,
     "metadata": {},
     "output_type": "execute_result"
    }
   ],
   "source": [
    "color=\"Orange\"\n",
    "color[1:4]"
   ]
  },
  {
   "cell_type": "code",
   "execution_count": 9,
   "id": "161751a8",
   "metadata": {},
   "outputs": [
    {
     "name": "stdout",
     "output_type": "stream",
     "text": [
      "Pine\n",
      "apple\n"
     ]
    }
   ],
   "source": [
    "fruit=\"Pineapple\"\n",
    "print(fruit[:4])\n",
    "print(fruit[4:])"
   ]
  },
  {
   "cell_type": "markdown",
   "id": "df2f7dc1",
   "metadata": {},
   "source": [
    "Creating new strings"
   ]
  },
  {
   "cell_type": "code",
   "execution_count": 10,
   "id": "5c7e0258",
   "metadata": {},
   "outputs": [
    {
     "name": "stdout",
     "output_type": "stream",
     "text": [
      "A long string with a silly typo\n"
     ]
    }
   ],
   "source": [
    "message=\"A kong string with a silly typo\"\n",
    "#message[2]='l' will be error because we can't modify a string but can create a new one\n",
    "new_message=message[0:2]+\"l\"+message[3:]\n",
    "print(new_message)"
   ]
  },
  {
   "cell_type": "markdown",
   "id": "b42acbff",
   "metadata": {},
   "source": [
    "Method: a function associated with a specific class"
   ]
  },
  {
   "cell_type": "code",
   "execution_count": 15,
   "id": "8f4b3596",
   "metadata": {},
   "outputs": [
    {
     "data": {
      "text/plain": [
       "5"
      ]
     },
     "execution_count": 15,
     "metadata": {},
     "output_type": "execute_result"
    }
   ],
   "source": [
    "pets=\"cats & dogs\"\n",
    "pets.index(\"&\")\n"
   ]
  },
  {
   "cell_type": "code",
   "execution_count": 14,
   "id": "90c30a2f",
   "metadata": {},
   "outputs": [
    {
     "data": {
      "text/plain": [
       "0"
      ]
     },
     "execution_count": 14,
     "metadata": {},
     "output_type": "execute_result"
    }
   ],
   "source": [
    "pets.index(\"c\")"
   ]
  },
  {
   "cell_type": "code",
   "execution_count": 13,
   "id": "c8ce1920",
   "metadata": {},
   "outputs": [
    {
     "data": {
      "text/plain": [
       "7"
      ]
     },
     "execution_count": 13,
     "metadata": {},
     "output_type": "execute_result"
    }
   ],
   "source": [
    "pets.index(\"dog\")"
   ]
  },
  {
   "cell_type": "code",
   "execution_count": 16,
   "id": "1aaf791f",
   "metadata": {},
   "outputs": [
    {
     "data": {
      "text/plain": [
       "False"
      ]
     },
     "execution_count": 16,
     "metadata": {},
     "output_type": "execute_result"
    }
   ],
   "source": [
    "\"dragons\" in pets"
   ]
  },
  {
   "cell_type": "code",
   "execution_count": 17,
   "id": "539f4156",
   "metadata": {},
   "outputs": [
    {
     "data": {
      "text/plain": [
       "True"
      ]
     },
     "execution_count": 17,
     "metadata": {},
     "output_type": "execute_result"
    }
   ],
   "source": [
    "\"cats\" in pets"
   ]
  },
  {
   "cell_type": "code",
   "execution_count": 18,
   "id": "01c765b1",
   "metadata": {},
   "outputs": [],
   "source": [
    "# if your company change its domain. then write a function that changes all the old domain from the emails\n",
    "\n",
    "def replace_domain(email,old_domain, new_domain):\n",
    "    if \"@\"+ old_domain in email:\n",
    "        index=email.index(\"@\"+old_domain)\n",
    "        new_email=email[:index]+\"@\"+new_domain\n",
    "        return new_email\n",
    "    return email"
   ]
  },
  {
   "cell_type": "code",
   "execution_count": 19,
   "id": "48d412e9",
   "metadata": {},
   "outputs": [
    {
     "data": {
      "text/plain": [
       "'MOUNTAINS'"
      ]
     },
     "execution_count": 19,
     "metadata": {},
     "output_type": "execute_result"
    }
   ],
   "source": [
    "\"Mountains\".upper()"
   ]
  },
  {
   "cell_type": "code",
   "execution_count": 20,
   "id": "547ad712",
   "metadata": {},
   "outputs": [
    {
     "data": {
      "text/plain": [
       "'mountains'"
      ]
     },
     "execution_count": 20,
     "metadata": {},
     "output_type": "execute_result"
    }
   ],
   "source": [
    "\"Mountains\".lower()"
   ]
  },
  {
   "cell_type": "code",
   "execution_count": 21,
   "id": "48dfbadb",
   "metadata": {},
   "outputs": [
    {
     "data": {
      "text/plain": [
       "'Yes'"
      ]
     },
     "execution_count": 21,
     "metadata": {},
     "output_type": "execute_result"
    }
   ],
   "source": [
    "\"  Yes   \".strip()# gets rid of surrounding spaces,tabs,newline character"
   ]
  },
  {
   "cell_type": "code",
   "execution_count": 22,
   "id": "6e8b550f",
   "metadata": {},
   "outputs": [
    {
     "data": {
      "text/plain": [
       "'tes  '"
      ]
     },
     "execution_count": 22,
     "metadata": {},
     "output_type": "execute_result"
    }
   ],
   "source": [
    "\"   tes  \".lstrip()# to get rid of whitespaces on left"
   ]
  },
  {
   "cell_type": "code",
   "execution_count": 23,
   "id": "f5b2ce99",
   "metadata": {},
   "outputs": [
    {
     "data": {
      "text/plain": [
       "'   tes'"
      ]
     },
     "execution_count": 23,
     "metadata": {},
     "output_type": "execute_result"
    }
   ],
   "source": [
    "\"   tes  \".rstrip()# to get rid of whitespaces on right"
   ]
  },
  {
   "cell_type": "code",
   "execution_count": 24,
   "id": "bfe0b9b2",
   "metadata": {},
   "outputs": [
    {
     "data": {
      "text/plain": [
       "4"
      ]
     },
     "execution_count": 24,
     "metadata": {},
     "output_type": "execute_result"
    }
   ],
   "source": [
    "\"The number of times e occurs in this string\".count(\"e\")"
   ]
  },
  {
   "cell_type": "code",
   "execution_count": 25,
   "id": "80a7df3d",
   "metadata": {},
   "outputs": [
    {
     "data": {
      "text/plain": [
       "True"
      ]
     },
     "execution_count": 25,
     "metadata": {},
     "output_type": "execute_result"
    }
   ],
   "source": [
    "\"to check a string ends with a certain substring\".endswith(\"ring\")"
   ]
  },
  {
   "cell_type": "code",
   "execution_count": 26,
   "id": "631b4bf1",
   "metadata": {},
   "outputs": [
    {
     "data": {
      "text/plain": [
       "False"
      ]
     },
     "execution_count": 26,
     "metadata": {},
     "output_type": "execute_result"
    }
   ],
   "source": [
    "\"Forest\".isnumeric()"
   ]
  },
  {
   "cell_type": "code",
   "execution_count": 27,
   "id": "bf3b8b7f",
   "metadata": {},
   "outputs": [
    {
     "data": {
      "text/plain": [
       "True"
      ]
     },
     "execution_count": 27,
     "metadata": {},
     "output_type": "execute_result"
    }
   ],
   "source": [
    "\"1234\".isnumeric()"
   ]
  },
  {
   "cell_type": "code",
   "execution_count": 28,
   "id": "fe4f768e",
   "metadata": {},
   "outputs": [
    {
     "data": {
      "text/plain": [
       "468"
      ]
     },
     "execution_count": 28,
     "metadata": {},
     "output_type": "execute_result"
    }
   ],
   "source": [
    "int(\"123\")+int(\"345\")"
   ]
  },
  {
   "cell_type": "code",
   "execution_count": 29,
   "id": "f707a19b",
   "metadata": {},
   "outputs": [
    {
     "data": {
      "text/plain": [
       "'this is a phrase joined by spaces'"
      ]
     },
     "execution_count": 29,
     "metadata": {},
     "output_type": "execute_result"
    }
   ],
   "source": [
    "\" \".join([\"this\",\"is\",\"a\",\"phrase\",\"joined\",\"by\",\"spaces\"])"
   ]
  },
  {
   "cell_type": "code",
   "execution_count": 31,
   "id": "582eef2f",
   "metadata": {},
   "outputs": [
    {
     "data": {
      "text/plain": [
       "'this...is...a...phrase...joined...by...tripple...dots'"
      ]
     },
     "execution_count": 31,
     "metadata": {},
     "output_type": "execute_result"
    }
   ],
   "source": [
    "\"...\".join([\"this\",\"is\",\"a\",\"phrase\",\"joined\",\"by\",\"tripple\",\"dots\"])"
   ]
  },
  {
   "cell_type": "code",
   "execution_count": 32,
   "id": "d0e868de",
   "metadata": {},
   "outputs": [
    {
     "data": {
      "text/plain": [
       "['This', 'is', 'another', 'example']"
      ]
     },
     "execution_count": 32,
     "metadata": {},
     "output_type": "execute_result"
    }
   ],
   "source": [
    "\"This is another example\".split()"
   ]
  },
  {
   "cell_type": "code",
   "execution_count": 35,
   "id": "76a34beb",
   "metadata": {},
   "outputs": [
    {
     "name": "stdout",
     "output_type": "stream",
     "text": [
      "USB\n",
      "LAN\n",
      "OS\n"
     ]
    }
   ],
   "source": [
    "def initials(phrase):\n",
    "    words = phrase.upper().split()\n",
    "    result = \"\"\n",
    "    for word in words:\n",
    "        result += word[0]\n",
    "    return result\n",
    "\n",
    "print(initials(\"Universal Serial Bus\")) # Should be: USB\n",
    "print(initials(\"local area network\")) # Should be: LAN\n",
    "print(initials(\"Operating system\")) # Should be: OS"
   ]
  },
  {
   "cell_type": "markdown",
   "id": "59a2fc0f",
   "metadata": {},
   "source": [
    "Formatting string"
   ]
  },
  {
   "cell_type": "code",
   "execution_count": 36,
   "id": "2bc8a9b9",
   "metadata": {},
   "outputs": [
    {
     "name": "stdout",
     "output_type": "stream",
     "text": [
      "Hello Manny, Your lucky number is 15\n"
     ]
    }
   ],
   "source": [
    "name=\"Manny\"\n",
    "number=len(name)*3\n",
    "print(\"Hello {}, Your lucky number is {}\".format(name,number))"
   ]
  },
  {
   "cell_type": "code",
   "execution_count": 37,
   "id": "e3fa5c63",
   "metadata": {},
   "outputs": [
    {
     "name": "stdout",
     "output_type": "stream",
     "text": [
      "Your lucky number is 15, Manny.\n"
     ]
    }
   ],
   "source": [
    "print(\"Your lucky number is {number}, {name}.\".format(name=name,number=len(name)*3))"
   ]
  },
  {
   "cell_type": "code",
   "execution_count": 38,
   "id": "74b9658c",
   "metadata": {},
   "outputs": [
    {
     "name": "stdout",
     "output_type": "stream",
     "text": [
      "7.5 8.175\n",
      "Base price: $7.50. With tax: $8.18\n"
     ]
    }
   ],
   "source": [
    "price=7.5\n",
    "with_tax=price*1.09\n",
    "print(price,with_tax)\n",
    "print(\"Base price: ${:.2f}. With tax: ${:.2f}\".format(price,with_tax))"
   ]
  },
  {
   "cell_type": "code",
   "execution_count": 39,
   "id": "f7ec7d90",
   "metadata": {},
   "outputs": [
    {
     "name": "stdout",
     "output_type": "stream",
     "text": [
      "  0 F | j-17.78 C\n",
      " 10 F | j-12.22 C\n",
      " 20 F | j -6.67 C\n",
      " 30 F | j -1.11 C\n",
      " 40 F | j  4.44 C\n",
      " 50 F | j 10.00 C\n",
      " 60 F | j 15.56 C\n",
      " 70 F | j 21.11 C\n",
      " 80 F | j 26.67 C\n",
      " 90 F | j 32.22 C\n",
      "100 F | j 37.78 C\n"
     ]
    }
   ],
   "source": [
    "def to_celcius(x):\n",
    "    return (x-32)*5/9\n",
    "\n",
    "for x in range(0,101,10):\n",
    "    print(\"{:>3} F | j{:>6.2f} C\".format(x,to_celcius(x))) #:> used to allign text to the right for n 3/6 spaces"
   ]
  },
  {
   "cell_type": "code",
   "execution_count": 60,
   "id": "9477080d",
   "metadata": {},
   "outputs": [
    {
     "name": "stdout",
     "output_type": "stream",
     "text": [
      "True\n",
      "False\n",
      "True\n"
     ]
    }
   ],
   "source": [
    "# palindrome\n",
    "def is_palindrome(x):\n",
    "    new_string = \"\".join(x.lower().strip().split())\n",
    "    reverse_string = \"\"\n",
    "    for i in range(-1,-1*len(new_string)-1,-1): \n",
    "        reverse_string+=new_string[i]\n",
    "    if new_string==reverse_string:\n",
    "        return True\n",
    "    return False\n",
    "\n",
    "print(is_palindrome(\"Never Odd or Even\")) # Should be True\n",
    "print(is_palindrome(\"abc\")) # Should be False\n",
    "print(is_palindrome(\"kayak\")) # Should be True"
   ]
  },
  {
   "cell_type": "code",
   "execution_count": 69,
   "id": "dfe84ca4",
   "metadata": {},
   "outputs": [
    {
     "name": "stdout",
     "output_type": "stream",
     "text": [
      "Rain\n"
     ]
    }
   ],
   "source": [
    "a=\"Rainfall\"\n",
    "print(a[:4])"
   ]
  },
  {
   "cell_type": "code",
   "execution_count": 70,
   "id": "ecbed279",
   "metadata": {},
   "outputs": [
    {
     "data": {
      "text/plain": [
       "['This', 'is', 'a', 'joke']"
      ]
     },
     "execution_count": 70,
     "metadata": {},
     "output_type": "execute_result"
    }
   ],
   "source": [
    "a=\"This is a joke\"\n",
    "a.split()"
   ]
  },
  {
   "cell_type": "code",
   "execution_count": 72,
   "id": "1eac7ae5",
   "metadata": {},
   "outputs": [
    {
     "data": {
      "text/plain": [
       "['This', 'is', 'a', 'joke']"
      ]
     },
     "execution_count": 72,
     "metadata": {},
     "output_type": "execute_result"
    }
   ],
   "source": [
    "a.strip().split()"
   ]
  },
  {
   "cell_type": "markdown",
   "id": "bb2285d0",
   "metadata": {},
   "source": [
    "# Lists"
   ]
  },
  {
   "cell_type": "code",
   "execution_count": 62,
   "id": "86290e68",
   "metadata": {},
   "outputs": [
    {
     "data": {
      "text/plain": [
       "list"
      ]
     },
     "execution_count": 62,
     "metadata": {},
     "output_type": "execute_result"
    }
   ],
   "source": [
    "x=[\"now\",\"we\",\"are\",\"cooking\"]\n",
    "type(x)"
   ]
  },
  {
   "cell_type": "code",
   "execution_count": 63,
   "id": "d242fcbb",
   "metadata": {},
   "outputs": [
    {
     "data": {
      "text/plain": [
       "4"
      ]
     },
     "execution_count": 63,
     "metadata": {},
     "output_type": "execute_result"
    }
   ],
   "source": [
    "len(x)"
   ]
  },
  {
   "cell_type": "code",
   "execution_count": 64,
   "id": "0d230c36",
   "metadata": {},
   "outputs": [
    {
     "name": "stdout",
     "output_type": "stream",
     "text": [
      "now\n"
     ]
    }
   ],
   "source": [
    "print(x[0])"
   ]
  },
  {
   "cell_type": "code",
   "execution_count": 65,
   "id": "475935b5",
   "metadata": {},
   "outputs": [
    {
     "name": "stdout",
     "output_type": "stream",
     "text": [
      "cooking\n"
     ]
    }
   ],
   "source": [
    "print(x[-1])"
   ]
  },
  {
   "cell_type": "code",
   "execution_count": 66,
   "id": "56f7ca2c",
   "metadata": {},
   "outputs": [
    {
     "data": {
      "text/plain": [
       "['we', 'are']"
      ]
     },
     "execution_count": 66,
     "metadata": {},
     "output_type": "execute_result"
    }
   ],
   "source": [
    "x[1:3]"
   ]
  },
  {
   "cell_type": "code",
   "execution_count": 67,
   "id": "fd2d10a5",
   "metadata": {},
   "outputs": [
    {
     "data": {
      "text/plain": [
       "['now', 'we']"
      ]
     },
     "execution_count": 67,
     "metadata": {},
     "output_type": "execute_result"
    }
   ],
   "source": [
    "x[:2]"
   ]
  },
  {
   "cell_type": "code",
   "execution_count": 68,
   "id": "b1cd4a83",
   "metadata": {},
   "outputs": [
    {
     "data": {
      "text/plain": [
       "['are', 'cooking']"
      ]
     },
     "execution_count": 68,
     "metadata": {},
     "output_type": "execute_result"
    }
   ],
   "source": [
    "x[2:]"
   ]
  },
  {
   "cell_type": "markdown",
   "id": "9873025e",
   "metadata": {},
   "source": [
    "Modifying list"
   ]
  },
  {
   "cell_type": "code",
   "execution_count": 73,
   "id": "e4d964a6",
   "metadata": {},
   "outputs": [
    {
     "name": "stdout",
     "output_type": "stream",
     "text": [
      "['pineapple', 'banana', 'apple', 'melon', 'kiwi']\n"
     ]
    }
   ],
   "source": [
    "fruits=[\"pineapple\",\"banana\",\"apple\",\"melon\"]\n",
    "fruits.append(\"kiwi\")\n",
    "print(fruits)"
   ]
  },
  {
   "cell_type": "code",
   "execution_count": 75,
   "id": "44684e33",
   "metadata": {},
   "outputs": [
    {
     "name": "stdout",
     "output_type": "stream",
     "text": [
      "['pineapple', 'mango', 'banana', 'apple', 'melon', 'kiwi']\n"
     ]
    }
   ],
   "source": [
    "fruits.insert(1,\"mango\")\n",
    "print(fruits)"
   ]
  },
  {
   "cell_type": "code",
   "execution_count": 76,
   "id": "6f57ea87",
   "metadata": {},
   "outputs": [
    {
     "name": "stdout",
     "output_type": "stream",
     "text": [
      "['pineapple', 'mango', 'banana', 'apple', 'melon', 'kiwi', 'orange']\n"
     ]
    }
   ],
   "source": [
    "fruits.insert(100,\"orange\")\n",
    "print(fruits)"
   ]
  },
  {
   "cell_type": "code",
   "execution_count": 77,
   "id": "88466ba7",
   "metadata": {},
   "outputs": [
    {
     "name": "stdout",
     "output_type": "stream",
     "text": [
      "['pineapple', 'mango', 'apple', 'melon', 'kiwi', 'orange']\n"
     ]
    }
   ],
   "source": [
    "fruits.remove(\"banana\")# remove the first occurance of the element\n",
    "print(fruits)"
   ]
  },
  {
   "cell_type": "code",
   "execution_count": 79,
   "id": "1cd4e863",
   "metadata": {},
   "outputs": [
    {
     "data": {
      "text/plain": [
       "'kiwi'"
      ]
     },
     "execution_count": 79,
     "metadata": {},
     "output_type": "execute_result"
    }
   ],
   "source": [
    "# pop method\n",
    "fruits.pop(3)\n"
   ]
  },
  {
   "cell_type": "code",
   "execution_count": 80,
   "id": "c0a51b34",
   "metadata": {},
   "outputs": [
    {
     "name": "stdout",
     "output_type": "stream",
     "text": [
      "['pineapple', 'mango', 'apple', 'orange']\n"
     ]
    }
   ],
   "source": [
    "print(fruits)"
   ]
  },
  {
   "cell_type": "code",
   "execution_count": 81,
   "id": "01de5b4d",
   "metadata": {},
   "outputs": [
    {
     "name": "stdout",
     "output_type": "stream",
     "text": [
      "['pineapple', 'mango', 'strawberry', 'orange']\n"
     ]
    }
   ],
   "source": [
    "fruits[2]=\"strawberry\"\n",
    "print(fruits)"
   ]
  },
  {
   "cell_type": "markdown",
   "id": "d1319a9e",
   "metadata": {},
   "source": [
    "Lists are sequences of elemtns of any type, and are mutable.\n",
    " strings are sequences that are immutable.\n",
    " Tuples are sequences of elements of any tupe but immutable."
   ]
  },
  {
   "cell_type": "markdown",
   "id": "f1a99521",
   "metadata": {},
   "source": [
    "# Tuples"
   ]
  },
  {
   "cell_type": "code",
   "execution_count": 84,
   "id": "60587d0b",
   "metadata": {},
   "outputs": [],
   "source": [
    "fullname=('Grace','M','Hopper')\n"
   ]
  },
  {
   "cell_type": "code",
   "execution_count": 85,
   "id": "8b21f619",
   "metadata": {},
   "outputs": [
    {
     "name": "stdout",
     "output_type": "stream",
     "text": [
      "total characters 16, Average length: 4.0\n"
     ]
    }
   ],
   "source": [
    "animals=[\"Lion\",\"Zebra\",\"Dolphine\",\"Monkey\"]\n",
    "chars=0\n",
    "for animal in animals:\n",
    "    chars+=len(animals)\n",
    "    \n",
    "print(\"Total characters {}, Average length: {}\".format(chars,chars/len(animals)))"
   ]
  },
  {
   "cell_type": "code",
   "execution_count": 87,
   "id": "15f49fe7",
   "metadata": {},
   "outputs": [
    {
     "name": "stdout",
     "output_type": "stream",
     "text": [
      "1 - Lion\n",
      "2 - Zebra\n",
      "3 - Dolphine\n",
      "4 - Monkey\n"
     ]
    }
   ],
   "source": [
    "for index, animal in enumerate(animals):\n",
    "    print(\"{} - {}\".format(index+1,animal))\n",
    "    # if you want to access the elements in a list, along with the index of the element in question? \n",
    "    #You can do this using the enumerate() function. \n",
    "    #The enumerate() function takes a list as a parameter and returns a tuple for each element in the list.\n",
    "    #The first value of the tuple is the index and the second value is the element itself."
   ]
  },
  {
   "cell_type": "code",
   "execution_count": 89,
   "id": "4672911a",
   "metadata": {},
   "outputs": [
    {
     "name": "stdout",
     "output_type": "stream",
     "text": [
      "['Alex Diego <alex@example.com>', 'Shay green <shy@example.com>']\n"
     ]
    }
   ],
   "source": [
    "def full_emails(people):\n",
    "    result=[]\n",
    "    for email,name in people:\n",
    "        result.append(\"{} <{}>\".format(name,email))\n",
    "    return result\n",
    "\n",
    "print(full_emails([(\"alex@example.com\",\"Alex Diego\"),(\"shy@example.com\",\"Shay green\"),]))"
   ]
  },
  {
   "cell_type": "code",
   "execution_count": 94,
   "id": "e7af157b",
   "metadata": {},
   "outputs": [
    {
     "name": "stdout",
     "output_type": "stream",
     "text": [
      "['a', 'c', 'e', 'g']\n",
      "['Orange', 'Strawberry', 'Peach']\n"
     ]
    }
   ],
   "source": [
    "def skip_elements(elements):\n",
    "\tn=[]\n",
    "\tfor i in range(0,len(elements),2):\n",
    "\t\tn.append(elements[i])\n",
    "\t\n",
    "\treturn n\n",
    "\n",
    "print(skip_elements([\"a\", \"b\", \"c\", \"d\", \"e\", \"f\", \"g\"])) # Should be ['a', 'c', 'e', 'g']\n",
    "print(skip_elements(['Orange', 'Pineapple', 'Strawberry', 'Kiwi', 'Peach']))"
   ]
  },
  {
   "cell_type": "code",
   "execution_count": 95,
   "id": "9a02c886",
   "metadata": {},
   "outputs": [
    {
     "name": "stdout",
     "output_type": "stream",
     "text": [
      "[7, 14, 21, 28, 35, 42, 49, 56, 63, 70]\n"
     ]
    }
   ],
   "source": [
    "multiples=[]\n",
    "for x in range(1,11):\n",
    "    multiples.append(x*7)\n",
    "    \n",
    "print(multiples)# we can do this using comprehension without for loop"
   ]
  },
  {
   "cell_type": "markdown",
   "id": "efdced39",
   "metadata": {},
   "source": [
    "# List comprehension"
   ]
  },
  {
   "cell_type": "code",
   "execution_count": 96,
   "id": "be925200",
   "metadata": {},
   "outputs": [
    {
     "name": "stdout",
     "output_type": "stream",
     "text": [
      "[7, 14, 21, 28, 35, 42, 49, 56, 63, 70]\n"
     ]
    }
   ],
   "source": [
    "multiples=[x*7 for x in range(1,11)]\n",
    "print(multiples)"
   ]
  },
  {
   "cell_type": "code",
   "execution_count": 98,
   "id": "fb878677",
   "metadata": {},
   "outputs": [
    {
     "name": "stdout",
     "output_type": "stream",
     "text": [
      "[6, 4, 4, 2, 4, 1]\n"
     ]
    }
   ],
   "source": [
    "languages=[\"Python\",\"Perl\",\"Ruby\",\"Go\",\"Java\",\"C\"]\n",
    "lengths=[len(language) for language in languages]\n",
    "print(lengths)"
   ]
  },
  {
   "cell_type": "code",
   "execution_count": 100,
   "id": "18063e3c",
   "metadata": {},
   "outputs": [
    {
     "name": "stdout",
     "output_type": "stream",
     "text": [
      "[0, 3, 6, 9, 12, 15, 18, 21, 24, 27, 30, 33, 36, 39, 42, 45, 48, 51, 54, 57, 60, 63, 66, 69, 72, 75, 78, 81, 84, 87, 90, 93, 96, 99]\n"
     ]
    }
   ],
   "source": [
    "z=[x for  x in range(0,101) if x%3==0]\n",
    "print(z)"
   ]
  },
  {
   "cell_type": "code",
   "execution_count": 103,
   "id": "863adfeb",
   "metadata": {},
   "outputs": [
    {
     "name": "stdout",
     "output_type": "stream",
     "text": [
      "ellohy\n",
      "owhy\n",
      "reay\n",
      "ouyy\n",
      "hello how are you\n",
      "rogrammingpy\n",
      "niy\n",
      "ythonpy\n",
      "siy\n",
      "unfy\n",
      "programming in python is fun\n"
     ]
    }
   ],
   "source": []
  },
  {
   "cell_type": "markdown",
   "id": "f449f8bf",
   "metadata": {},
   "source": [
    "# Dictionaries"
   ]
  },
  {
   "cell_type": "code",
   "execution_count": 1,
   "id": "27722dcc",
   "metadata": {},
   "outputs": [
    {
     "data": {
      "text/plain": [
       "dict"
      ]
     },
     "execution_count": 1,
     "metadata": {},
     "output_type": "execute_result"
    }
   ],
   "source": [
    "x={}\n",
    "type(x)"
   ]
  },
  {
   "cell_type": "code",
   "execution_count": 3,
   "id": "a7a1cc24",
   "metadata": {},
   "outputs": [
    {
     "name": "stdout",
     "output_type": "stream",
     "text": [
      "{'jpg': 10, 'py': 23, 'csv': 21, 'txt': 14}\n"
     ]
    }
   ],
   "source": [
    "file_count={\"jpg\":10,\"py\":23,\"csv\":21,\"txt\":14}\n",
    "print(file_count)"
   ]
  },
  {
   "cell_type": "code",
   "execution_count": 4,
   "id": "11144681",
   "metadata": {},
   "outputs": [
    {
     "data": {
      "text/plain": [
       "14"
      ]
     },
     "execution_count": 4,
     "metadata": {},
     "output_type": "execute_result"
    }
   ],
   "source": [
    "file_count[\"txt\"]"
   ]
  },
  {
   "cell_type": "code",
   "execution_count": 5,
   "id": "c812c560",
   "metadata": {},
   "outputs": [
    {
     "data": {
      "text/plain": [
       "True"
      ]
     },
     "execution_count": 5,
     "metadata": {},
     "output_type": "execute_result"
    }
   ],
   "source": [
    "\"jpg\" in file_count"
   ]
  },
  {
   "cell_type": "code",
   "execution_count": 6,
   "id": "85cb4776",
   "metadata": {},
   "outputs": [
    {
     "data": {
      "text/plain": [
       "False"
      ]
     },
     "execution_count": 6,
     "metadata": {},
     "output_type": "execute_result"
    }
   ],
   "source": [
    "\"html\" in file_count"
   ]
  },
  {
   "cell_type": "code",
   "execution_count": 9,
   "id": "904fab48",
   "metadata": {},
   "outputs": [
    {
     "name": "stdout",
     "output_type": "stream",
     "text": [
      "{'jpg': 10, 'py': 23, 'csv': 21, 'txt': 14, 'csp': 24}\n"
     ]
    }
   ],
   "source": [
    "file_count[\"csp\"]=24\n",
    "print(file_count)"
   ]
  },
  {
   "cell_type": "code",
   "execution_count": 10,
   "id": "c3618d6e",
   "metadata": {},
   "outputs": [
    {
     "name": "stdout",
     "output_type": "stream",
     "text": [
      "{'jpg': 10, 'csv': 21, 'txt': 14, 'csp': 24}\n"
     ]
    }
   ],
   "source": [
    "del file_count[\"py\"]\n",
    "print(file_count)"
   ]
  },
  {
   "cell_type": "code",
   "execution_count": 11,
   "id": "c1359c44",
   "metadata": {},
   "outputs": [
    {
     "name": "stdout",
     "output_type": "stream",
     "text": [
      "jpg\n",
      "csv\n",
      "txt\n",
      "csp\n"
     ]
    }
   ],
   "source": [
    "for i in file_count:\n",
    "    print(i)"
   ]
  },
  {
   "cell_type": "code",
   "execution_count": 13,
   "id": "b7b86964",
   "metadata": {},
   "outputs": [
    {
     "name": "stdout",
     "output_type": "stream",
     "text": [
      "There are jpg files with 10 extensions\n",
      "There are csv files with 21 extensions\n",
      "There are txt files with 14 extensions\n",
      "There are csp files with 24 extensions\n"
     ]
    }
   ],
   "source": [
    "for ext,amounts in file_count.items():\n",
    "    print(\"There are {} files with {} extensions\".format(ext,amounts))"
   ]
  },
  {
   "cell_type": "code",
   "execution_count": 14,
   "id": "6d37179e",
   "metadata": {},
   "outputs": [
    {
     "data": {
      "text/plain": [
       "dict_keys(['jpg', 'csv', 'txt', 'csp'])"
      ]
     },
     "execution_count": 14,
     "metadata": {},
     "output_type": "execute_result"
    }
   ],
   "source": [
    "file_count.keys()"
   ]
  },
  {
   "cell_type": "code",
   "execution_count": 15,
   "id": "65f450a8",
   "metadata": {},
   "outputs": [
    {
     "data": {
      "text/plain": [
       "dict_values([10, 21, 14, 24])"
      ]
     },
     "execution_count": 15,
     "metadata": {},
     "output_type": "execute_result"
    }
   ],
   "source": [
    "file_count.values()"
   ]
  },
  {
   "cell_type": "code",
   "execution_count": 17,
   "id": "6ff1def6",
   "metadata": {},
   "outputs": [
    {
     "name": "stdout",
     "output_type": "stream",
     "text": [
      "10\n",
      "21\n",
      "14\n",
      "24\n"
     ]
    }
   ],
   "source": [
    "for value in file_count.values():\n",
    "    print(value)"
   ]
  },
  {
   "cell_type": "code",
   "execution_count": 21,
   "id": "452681dc",
   "metadata": {},
   "outputs": [
    {
     "name": "stdout",
     "output_type": "stream",
     "text": [
      "{'admin': ['local', 'public', 'administrator'], 'userA': ['local'], 'userB': ['public']}\n"
     ]
    }
   ],
   "source": [
    "#reverse a dictionary\n",
    "def groups_per_user(group_dictionary):\n",
    "    users = {}\n",
    "    for key, values in group_dictionary.items():\n",
    "        for i in values:\n",
    "            users.setdefault(i, []).append(key)\n",
    "    return users\n",
    "\n",
    "print(groups_per_user({\"local\": [\"admin\", \"userA\"],\n",
    "\t\t\"public\":  [\"admin\", \"userB\"],\n",
    "\t\t\"administrator\": [\"admin\"] }))"
   ]
  },
  {
   "cell_type": "code",
   "execution_count": 1,
   "id": "a221e509",
   "metadata": {},
   "outputs": [
    {
     "name": "stdout",
     "output_type": "stream",
     "text": [
      "{'David': 1, 'Nancy': 1, 'Robert': 4, 'Adam': 2, 'Samantha': 3, 'Chris': 5, 'Brenda': 3, 'Jose': 3, 'Charlotte': 2, 'Terry': 1}\n"
     ]
    }
   ],
   "source": [
    "#combining two dictionary\n",
    "def combine_guests(guests1, guests2):\n",
    "    guests2.update (guests1)\n",
    "    return guests2\n",
    "\n",
    "Rorys_guests = { \"Adam\":2, \"Brenda\":3, \"David\":1, \"Jose\":3, \"Charlotte\":2, \"Terry\":1, \"Robert\":4}\n",
    "Taylors_guests = { \"David\":4, \"Nancy\":1, \"Robert\":2, \"Adam\":1, \"Samantha\":3, \"Chris\":5}\n",
    "\n",
    "print(combine_guests(Rorys_guests, Taylors_guests))"
   ]
  },
  {
   "cell_type": "markdown",
   "id": "d75876be",
   "metadata": {},
   "source": [
    "# set"
   ]
  },
  {
   "cell_type": "code",
   "execution_count": 18,
   "id": "3d0dbf40",
   "metadata": {},
   "outputs": [
    {
     "name": "stdout",
     "output_type": "stream",
     "text": [
      "{'apple', 'cherry', 'banana'}\n"
     ]
    }
   ],
   "source": [
    "mset = {\"apple\", \"banana\", \"cherry\"} #no duplicates\n",
    "print(mset)"
   ]
  },
  {
   "cell_type": "code",
   "execution_count": null,
   "id": "63934275",
   "metadata": {},
   "outputs": [],
   "source": []
  }
 ],
 "metadata": {
  "kernelspec": {
   "display_name": "Python 3 (ipykernel)",
   "language": "python",
   "name": "python3"
  },
  "language_info": {
   "codemirror_mode": {
    "name": "ipython",
    "version": 3
   },
   "file_extension": ".py",
   "mimetype": "text/x-python",
   "name": "python",
   "nbconvert_exporter": "python",
   "pygments_lexer": "ipython3",
   "version": "3.9.7"
  }
 },
 "nbformat": 4,
 "nbformat_minor": 5
}
